{
  "nbformat": 4,
  "nbformat_minor": 0,
  "metadata": {
    "colab": {
      "provenance": []
    },
    "kernelspec": {
      "name": "python3",
      "display_name": "Python 3"
    },
    "language_info": {
      "name": "python"
    }
  },
  "cells": [
    {
      "cell_type": "code",
      "source": [
        "#!pip install deeplake"
      ],
      "metadata": {
        "id": "aiUzQHq6mPRY"
      },
      "execution_count": 1,
      "outputs": []
    },
    {
      "cell_type": "code",
      "execution_count": 10,
      "metadata": {
        "id": "19MnT4evmBjo"
      },
      "outputs": [],
      "source": [
        "import tensorflow as tf\n",
        "import deeplake\n",
        "import numpy as np\n",
        "from tensorflow.keras.utils import to_categorical\n",
        "from tensorflow.keras.applications.mobilenet_v2 import MobileNetV2\n",
        "import matplotlib.pyplot as plt\n"
      ]
    },
    {
      "cell_type": "markdown",
      "source": [
        "\n",
        "## Importing the Data"
      ],
      "metadata": {
        "id": "ahUlyk5tmHfq"
      }
    },
    {
      "cell_type": "code",
      "source": [
        "\n",
        "ds_train = deeplake.load(\"hub://activeloop/animal10n-train\")\n",
        "ds_test = deeplake.load(\"hub://activeloop/animal10n-test\")\n",
        "\n",
        "x_data = ds_train[\"images\"]\n",
        "x_data = np.reshape(x_data, (x_data.shape[0], 64, 64, 3))\n",
        "x_data = x_data.astype(\"float32\") / 255.0\n",
        "\n",
        "y_data = ds_train[\"labels\"]\n",
        "num_classes = np.max(y_data) + 1\n",
        "y_data = to_categorical(y_data, num_classes=num_classes)\n",
        "\n",
        "x_test = ds_test[\"images\"]\n",
        "x_test = np.reshape(x_test, (x_test.shape[0], 64, 64, 3))\n",
        "x_test = x_test.astype(\"float32\") / 255.0\n",
        "\n",
        "y_test = ds_test[\"labels\"]\n",
        "y_test = to_categorical(y_test, num_classes=num_classes)\n"
      ],
      "metadata": {
        "colab": {
          "base_uri": "https://localhost:8080/"
        },
        "id": "q5lzRBAbmGOQ",
        "outputId": "045ac81c-8763-4f5e-9885-bdc47556cdee"
      },
      "execution_count": 3,
      "outputs": [
        {
          "output_type": "stream",
          "name": "stderr",
          "text": [
            "/"
          ]
        },
        {
          "output_type": "stream",
          "name": "stdout",
          "text": [
            "This dataset can be visualized in Jupyter Notebook by ds.visualize() or at https://app.activeloop.ai/activeloop/animal10n-train\n",
            "\n"
          ]
        },
        {
          "output_type": "stream",
          "name": "stderr",
          "text": [
            "/"
          ]
        },
        {
          "output_type": "stream",
          "name": "stdout",
          "text": [
            "hub://activeloop/animal10n-train loaded successfully.\n",
            "\n"
          ]
        },
        {
          "output_type": "stream",
          "name": "stderr",
          "text": [
            "-"
          ]
        },
        {
          "output_type": "stream",
          "name": "stdout",
          "text": [
            "This dataset can be visualized in Jupyter Notebook by ds.visualize() or at https://app.activeloop.ai/activeloop/animal10n-test\n",
            "\n"
          ]
        },
        {
          "output_type": "stream",
          "name": "stderr",
          "text": [
            "-"
          ]
        },
        {
          "output_type": "stream",
          "name": "stdout",
          "text": [
            "hub://activeloop/animal10n-test loaded successfully.\n",
            "\n"
          ]
        },
        {
          "output_type": "stream",
          "name": "stderr",
          "text": [
            "\r \r\r \r"
          ]
        }
      ]
    },
    {
      "cell_type": "markdown",
      "source": [
        "## Building the Model"
      ],
      "metadata": {
        "id": "N3x8CdR2mdS1"
      }
    },
    {
      "cell_type": "code",
      "source": [
        "mobilenet_model = MobileNetV2(weights=\"imagenet\", include_top=False, input_shape=(64, 64, 3))\n",
        "flatten_layer = tf.keras.layers.Flatten()(mobilenet_model.output)\n",
        "dense_layer1 = tf.keras.layers.Dense(128, activation=\"relu\")(flatten_layer)\n",
        "dropout_layer = tf.keras.layers.Dropout(0.4)(dense_layer1)  # dropout with a rate of 0.4\n",
        "output_layer = tf.keras.layers.Dense(num_classes, activation=\"softmax\")(dropout_layer)\n",
        "\n",
        "model = tf.keras.Model(mobilenet_model.input, output_layer)"
      ],
      "metadata": {
        "colab": {
          "base_uri": "https://localhost:8080/"
        },
        "id": "8p5RN47mmNq6",
        "outputId": "255cf039-10f4-43ee-f7cb-74e08fe9b40b"
      },
      "execution_count": 4,
      "outputs": [
        {
          "output_type": "stream",
          "name": "stderr",
          "text": [
            "WARNING:tensorflow:`input_shape` is undefined or non-square, or `rows` is not in [96, 128, 160, 192, 224]. Weights for input shape (224, 224) will be loaded as the default.\n"
          ]
        }
      ]
    },
    {
      "cell_type": "markdown",
      "source": [
        "## Testing the model"
      ],
      "metadata": {
        "id": "sNLET1MEqC5A"
      }
    },
    {
      "cell_type": "code",
      "source": [
        "# freezing the pre-trained layers\n",
        "for layer in mobilenet_model.layers:\n",
        "    layer.trainable = False\n",
        "\n",
        "model.compile(optimizer=\"adam\", loss=\"categorical_crossentropy\", metrics=[\"accuracy\"])\n",
        "\n",
        "history = model.fit(x_data, y_data, batch_size=1000, epochs=10,validation_data=(x_test, y_test))\n"
      ],
      "metadata": {
        "colab": {
          "base_uri": "https://localhost:8080/"
        },
        "id": "Kr0UCIi9qCOu",
        "outputId": "36ca8d08-ca12-4c80-8d35-2b6a6d087976"
      },
      "execution_count": 5,
      "outputs": [
        {
          "output_type": "stream",
          "name": "stdout",
          "text": [
            "Epoch 1/10\n",
            "50/50 [==============================] - 258s 5s/step - loss: 1.7421 - accuracy: 0.3904 - val_loss: 1.3391 - val_accuracy: 0.5338\n",
            "Epoch 2/10\n",
            "50/50 [==============================] - 228s 5s/step - loss: 1.4032 - accuracy: 0.4989 - val_loss: 1.2586 - val_accuracy: 0.5572\n",
            "Epoch 3/10\n",
            "50/50 [==============================] - 252s 5s/step - loss: 1.3075 - accuracy: 0.5321 - val_loss: 1.2314 - val_accuracy: 0.5632\n",
            "Epoch 4/10\n",
            "50/50 [==============================] - 221s 4s/step - loss: 1.2342 - accuracy: 0.5549 - val_loss: 1.2169 - val_accuracy: 0.5678\n",
            "Epoch 5/10\n",
            "50/50 [==============================] - 230s 5s/step - loss: 1.1816 - accuracy: 0.5742 - val_loss: 1.2166 - val_accuracy: 0.5656\n",
            "Epoch 6/10\n",
            "50/50 [==============================] - 228s 5s/step - loss: 1.1367 - accuracy: 0.5903 - val_loss: 1.2090 - val_accuracy: 0.5734\n",
            "Epoch 7/10\n",
            "50/50 [==============================] - 228s 5s/step - loss: 1.0835 - accuracy: 0.6077 - val_loss: 1.2153 - val_accuracy: 0.5734\n",
            "Epoch 8/10\n",
            "50/50 [==============================] - 253s 5s/step - loss: 1.0477 - accuracy: 0.6208 - val_loss: 1.2156 - val_accuracy: 0.5732\n",
            "Epoch 9/10\n",
            "50/50 [==============================] - 257s 5s/step - loss: 1.0121 - accuracy: 0.6330 - val_loss: 1.2219 - val_accuracy: 0.5742\n",
            "Epoch 10/10\n",
            "50/50 [==============================] - 265s 5s/step - loss: 0.9755 - accuracy: 0.6456 - val_loss: 1.2193 - val_accuracy: 0.5748\n"
          ]
        }
      ]
    },
    {
      "cell_type": "code",
      "source": [
        "test_loss, test_accuracy = model.evaluate(x_test, y_test)\n",
        "print(\"Test Loss:\", test_loss)\n",
        "print(\"Test Accuracy:\", test_accuracy)"
      ],
      "metadata": {
        "colab": {
          "base_uri": "https://localhost:8080/"
        },
        "id": "5eBAyjbYqNdO",
        "outputId": "5f35bd43-b453-4a72-9076-c646c2853f72"
      },
      "execution_count": 6,
      "outputs": [
        {
          "output_type": "stream",
          "name": "stdout",
          "text": [
            "157/157 [==============================] - 18s 104ms/step - loss: 1.2193 - accuracy: 0.5748\n",
            "Test Loss: 1.2192829847335815\n",
            "Test Accuracy: 0.5748000144958496\n"
          ]
        }
      ]
    },
    {
      "cell_type": "markdown",
      "source": [
        "## Train/Val Loss Graphs"
      ],
      "metadata": {
        "id": "5quXknouC1wC"
      }
    },
    {
      "cell_type": "code",
      "source": [
        "#Extract loss and accuracy values from history\n",
        "train_loss = history.history[\"loss\"]\n",
        "val_loss = history.history[\"val_loss\"]\n",
        "train_accuracy = history.history[\"accuracy\"]\n",
        "val_accuracy = history.history[\"val_accuracy\"]"
      ],
      "metadata": {
        "id": "XQudgJ6u4FKN"
      },
      "execution_count": 7,
      "outputs": []
    },
    {
      "cell_type": "code",
      "source": [
        "# the loss curves\n",
        "plt.figure(figsize=(12, 4))\n",
        "plt.subplot(1, 2, 1)\n",
        "plt.plot(range(1, len(train_loss) + 1), train_loss, label=\"Train Loss\")\n",
        "plt.plot(range(1, len(val_loss) + 1), val_loss, label=\"Val Loss\")\n",
        "plt.title(\"Loss Curves\")\n",
        "plt.xlabel(\"Epochs\")\n",
        "plt.ylabel(\"Loss\")\n",
        "plt.legend()\n",
        "\n",
        "# the accuracy curves\n",
        "plt.subplot(1, 2, 2)\n",
        "plt.plot(range(1, len(train_accuracy) + 1), train_accuracy, label=\"Train Accuracy\")\n",
        "plt.plot(range(1, len(val_accuracy) + 1), val_accuracy, label=\"Val Accuracy\")\n",
        "plt.title(\"Accuracy Curves\")\n",
        "plt.xlabel(\"Epochs\")\n",
        "plt.ylabel(\"Accuracy\")\n",
        "plt.legend()\n"
      ],
      "metadata": {
        "colab": {
          "base_uri": "https://localhost:8080/",
          "height": 428
        },
        "id": "LexgpzyO4HVW",
        "outputId": "d2fc9a74-6280-4378-a99a-f811c4bd058e"
      },
      "execution_count": 11,
      "outputs": [
        {
          "output_type": "execute_result",
          "data": {
            "text/plain": [
              "<matplotlib.legend.Legend at 0x7f5852097ee0>"
            ]
          },
          "metadata": {},
          "execution_count": 11
        },
        {
          "output_type": "display_data",
          "data": {
            "text/plain": [
              "<Figure size 1200x400 with 2 Axes>"
            ],
            "image/png": "[encoded data removed]"
          },
          "metadata": {}
        }
      ]
    },
    {
      "cell_type": "markdown",
      "source": [
        "## Saving the Model\n"
      ],
      "metadata": {
        "id": "Bgn17rS-CvpM"
      }
    },
    {
      "cell_type": "code",
      "source": [
        "model.save(\"MobileNetV2+DNN.h5\")"
      ],
      "metadata": {
        "id": "3_TxnEEkCgHQ"
      },
      "execution_count": 13,
      "outputs": []
    },
    {
      "cell_type": "code",
      "source": [
        "#loading the model\n",
        "loaded_model = tf.keras.models.load_model(\"MobileNetV2+DNN.h5\")\n"
      ],
      "metadata": {
        "id": "FcD_DhEOC90p"
      },
      "execution_count": 14,
      "outputs": []
    }
  ]
}